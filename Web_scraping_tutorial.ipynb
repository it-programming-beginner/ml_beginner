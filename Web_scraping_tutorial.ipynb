{
 "cells": [
  {
   "cell_type": "code",
   "execution_count": 1,
   "id": "55c11877-2fa9-4113-b158-bd99181284a5",
   "metadata": {},
   "outputs": [
    {
     "name": "stdout",
     "output_type": "stream",
     "text": [
      "Requirement already satisfied: requests in c:\\users\\user\\appdata\\roaming\\jupyterlab-desktop\\jlab_server\\lib\\site-packages (2.27.1)\n",
      "Requirement already satisfied: beautifulsoup4 in c:\\users\\user\\appdata\\roaming\\jupyterlab-desktop\\jlab_server\\lib\\site-packages (4.11.1)\n",
      "Requirement already satisfied: certifi>=2017.4.17 in c:\\users\\user\\appdata\\roaming\\jupyterlab-desktop\\jlab_server\\lib\\site-packages (from requests) (2021.10.8)\n",
      "Requirement already satisfied: charset-normalizer~=2.0.0 in c:\\users\\user\\appdata\\roaming\\jupyterlab-desktop\\jlab_server\\lib\\site-packages (from requests) (2.0.12)\n",
      "Requirement already satisfied: urllib3<1.27,>=1.21.1 in c:\\users\\user\\appdata\\roaming\\jupyterlab-desktop\\jlab_server\\lib\\site-packages (from requests) (1.26.9)\n",
      "Requirement already satisfied: idna<4,>=2.5 in c:\\users\\user\\appdata\\roaming\\jupyterlab-desktop\\jlab_server\\lib\\site-packages (from requests) (3.3)\n",
      "Requirement already satisfied: soupsieve>1.2 in c:\\users\\user\\appdata\\roaming\\jupyterlab-desktop\\jlab_server\\lib\\site-packages (from beautifulsoup4) (2.3.1)\n",
      "Note: you may need to restart the kernel to use updated packages.\n"
     ]
    }
   ],
   "source": [
    "%pip install requests beautifulsoup4"
   ]
  },
  {
   "cell_type": "code",
   "execution_count": 2,
   "id": "35c8062f-8c55-43da-b414-4429d4a5843e",
   "metadata": {},
   "outputs": [],
   "source": [
    "import requests\n",
    "from bs4 import BeautifulSoup"
   ]
  },
  {
   "cell_type": "code",
   "execution_count": 3,
   "id": "d26d86e9-8ca4-4080-8792-07dffc6098fb",
   "metadata": {},
   "outputs": [],
   "source": [
    "url = 'https://news.yahoo.co.jp/topics/top-picks'\n",
    "html_text = requests.get(url).text"
   ]
  },
  {
   "cell_type": "code",
   "execution_count": 5,
   "id": "9567608d-861f-4e97-84e5-746e23c5a6ed",
   "metadata": {},
   "outputs": [],
   "source": [
    "soup = BeautifulSoup(html_text, 'html.parser')"
   ]
  },
  {
   "cell_type": "code",
   "execution_count": 6,
   "id": "d06dd907-3d9c-451d-b49a-9425a6205e02",
   "metadata": {},
   "outputs": [
    {
     "name": "stdout",
     "output_type": "stream",
     "text": [
      "1 「邪魔」撮り鉄に地元住民が怒り\n",
      "2 露で無人機攻撃 パルチザン実行か\n",
      "3 伊勢湾岸道8台からむ事故 6人搬送\n",
      "4 球場騒然 中田翔が右太もも負傷か\n",
      "5 金爆 4人での活動再開を選んだ訳\n",
      "7 少子化財源で基金創設検討 茂木氏\n",
      "8 ヌートバー完敗 大谷の「勝ちだ」\n",
      "9 5類移行「不安ない」8割 主要企業\n",
      "10 RSウイルスワクチン 米で初承認\n",
      "11 ペンダントに女性DNA 2万年前か\n",
      "13 ヌートバー3K 大谷「思い通り」\n",
      "14 小売り・外食 マスクなし接客拡大\n",
      "15 高速道 ずっと追い越し車線は違反\n",
      "16 元日テレアナ 今「チーズ」審査員\n",
      "17 不審者扱い? 困っている子の対処\n",
      "19 坂口憲二が語る 子供との時間\n",
      "20 露の自作自演の可能性 米研究所\n",
      "21 大谷、ルース以来の500K&100HR\n",
      "22 逸ノ城が引退 日本相撲協会が発表\n",
      "23 6人騎乗停止 Z世代とコロナ背景?\n",
      "25 中川翔子 突然の求婚でパニックに\n",
      "26 米 露主張に「真偽確認できず」\n",
      "27 速報 大谷は5回13奪三振で降板\n",
      "28 絶好調 吉田正尚が13試合連続安打\n",
      "29 渋谷区強盗 新たに「転売役」逮捕\n"
     ]
    }
   ],
   "source": [
    "for i, item in enumerate(soup.select('.newsFeed_item'), 1):\n",
    "    if title := item.select_one('.newsFeed_item_title'):\n",
    "        print(i, title.text)"
   ]
  },
  {
   "cell_type": "code",
   "execution_count": null,
   "id": "6e0b10cd-4b0f-44f9-b8e6-37c912702c75",
   "metadata": {},
   "outputs": [],
   "source": []
  }
 ],
 "metadata": {
  "kernelspec": {
   "display_name": "Python 3 (ipykernel)",
   "language": "python",
   "name": "python3"
  },
  "language_info": {
   "codemirror_mode": {
    "name": "ipython",
    "version": 3
   },
   "file_extension": ".py",
   "mimetype": "text/x-python",
   "name": "python",
   "nbconvert_exporter": "python",
   "pygments_lexer": "ipython3",
   "version": "3.8.13"
  }
 },
 "nbformat": 4,
 "nbformat_minor": 5
}
